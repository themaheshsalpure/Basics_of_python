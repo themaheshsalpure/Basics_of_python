{
 "cells": [
  {
   "cell_type": "code",
   "execution_count": 1,
   "metadata": {},
   "outputs": [],
   "source": [
    "l = [1,2,3,4]"
   ]
  },
  {
   "cell_type": "code",
   "execution_count": null,
   "metadata": {},
   "outputs": [],
   "source": [
    "for i in range(len(l)):\n",
    "    if l[i] > l[i+1]:\n",
    "        "
   ]
  },
  {
   "cell_type": "code",
   "execution_count": 2,
   "metadata": {},
   "outputs": [],
   "source": [
    "l = [1,2,3,4]\n",
    "if l == sorted(l):\n",
    "    print('List is sorted')\n",
    "else :\n",
    "    print('List not sorted')"
   ]
  },
  {
   "cell_type": "code",
   "execution_count": 3,
   "metadata": {},
   "outputs": [
    {
     "name": "stdout",
     "output_type": "stream",
     "text": [
      "[1, 2, 3, 4]\n"
     ]
    }
   ],
   "source": [
    "print(x)"
   ]
  },
  {
   "cell_type": "code",
   "execution_count": 12,
   "metadata": {},
   "outputs": [
    {
     "name": "stdout",
     "output_type": "stream",
     "text": [
      "5\n",
      "sorted\n"
     ]
    }
   ],
   "source": [
    "flag = 0\n",
    "l = [1,2,3,5,6,7]\n",
    "\n",
    "for i in range(len(l)-1):\n",
    "    # if i != len(l)-1:\n",
    "    if l[i] <= l[i+1]:\n",
    "            # print(l[i])\n",
    "        flag += 1\n",
    "    \n",
    "if flag == len(l)-1:\n",
    "    print(flag)\n",
    "    print('sorted')\n",
    "else :\n",
    "    print(flag)\n",
    "    print('not sorted')"
   ]
  },
  {
   "cell_type": "code",
   "execution_count": 10,
   "metadata": {},
   "outputs": [
    {
     "data": {
      "text/plain": [
       "False"
      ]
     },
     "execution_count": 10,
     "metadata": {},
     "output_type": "execute_result"
    }
   ],
   "source": [
    "5 > 5"
   ]
  },
  {
   "cell_type": "code",
   "execution_count": 14,
   "metadata": {},
   "outputs": [],
   "source": [
    "fibonacci = 0,1,1,2,3,5,8,13\n",
    "ip = 10"
   ]
  },
  {
   "cell_type": "code",
   "execution_count": 16,
   "metadata": {},
   "outputs": [
    {
     "name": "stdout",
     "output_type": "stream",
     "text": [
      "[0, 1, 1, 2, 3, 5, 8, 13, 21, 34]\n"
     ]
    }
   ],
   "source": [
    "n = 10\n",
    "l = [0, 1]\n",
    "for i in range(2, n):\n",
    "    l.append(l[-1] + l[-2])\n",
    "print(l)\n",
    "\n"
   ]
  },
  {
   "cell_type": "markdown",
   "metadata": {},
   "source": [
    "Using Map function :"
   ]
  },
  {
   "cell_type": "markdown",
   "metadata": {},
   "source": [
    "Map will work only if we want to apply logic to each and every element of the iterable"
   ]
  },
  {
   "cell_type": "code",
   "execution_count": 17,
   "metadata": {},
   "outputs": [
    {
     "data": {
      "text/plain": [
       "[2, 3, 4, 5]"
      ]
     },
     "execution_count": 17,
     "metadata": {},
     "output_type": "execute_result"
    }
   ],
   "source": [
    "l = [1,2,3,4]\n",
    "\n",
    "\n",
    "def add_1(i):\n",
    "    x = i + 1\n",
    "    return x \n",
    "\n",
    "list(map(add_1, l))    # Map used here "
   ]
  },
  {
   "cell_type": "code",
   "execution_count": 21,
   "metadata": {},
   "outputs": [
    {
     "data": {
      "text/plain": [
       "[1, 4, 27, 16, 125, 36, 343, 64, 729, 100]"
      ]
     },
     "execution_count": 21,
     "metadata": {},
     "output_type": "execute_result"
    }
   ],
   "source": [
    "# cube of odd num and square of even number :\n",
    "x = [1,2,3,4,5,6,7,8,9,10]\n",
    "def matt(i):\n",
    "    if i % 2 == 0:\n",
    "        a = i **2\n",
    "        return a\n",
    "    else :\n",
    "        b = i ** 3\n",
    "        return b\n",
    "        \n",
    "list(map(matt, x))"
   ]
  },
  {
   "cell_type": "code",
   "execution_count": 24,
   "metadata": {},
   "outputs": [
    {
     "data": {
      "text/plain": [
       "['atad', 'ecneics', 'gne']"
      ]
     },
     "execution_count": 24,
     "metadata": {},
     "output_type": "execute_result"
    }
   ],
   "source": [
    "ex = ['data','science','eng']\n",
    "\n",
    "def rev(x):\n",
    "    return x[::-1]\n",
    "\n",
    "list(map(rev, ex))"
   ]
  },
  {
   "cell_type": "code",
   "execution_count": 23,
   "metadata": {},
   "outputs": [
    {
     "name": "stdout",
     "output_type": "stream",
     "text": [
      "atad\n"
     ]
    }
   ],
   "source": [
    "a = 'data'\n",
    "print(a[::-1])"
   ]
  },
  {
   "cell_type": "code",
   "execution_count": 26,
   "metadata": {},
   "outputs": [
    {
     "data": {
      "text/plain": [
       "['Male', 'female', 'female', 'Male']"
      ]
     },
     "execution_count": 26,
     "metadata": {},
     "output_type": "execute_result"
    }
   ],
   "source": [
    "l = ['mr.jonas','mrs.siya','Mr.Deshpande','Mrs.Shinde']\n",
    "\n",
    "def spl(x):\n",
    "    a = x.split('.')\n",
    "    if a[0].lower() == 'mr':\n",
    "        return 'Male' \n",
    "    elif a[0].lower() == 'ms':\n",
    "        return 'female'\n",
    "\n",
    "list(map(spl, l))"
   ]
  },
  {
   "cell_type": "code",
   "execution_count": 27,
   "metadata": {},
   "outputs": [
    {
     "data": {
      "text/plain": [
       "[list, int, str]"
      ]
     },
     "execution_count": 27,
     "metadata": {},
     "output_type": "execute_result"
    }
   ],
   "source": [
    "l = [[2,3],(2),'data']\n",
    "\n",
    "def check(x):\n",
    "    return type(x)\n",
    "\n",
    "list(map(type, l))"
   ]
  },
  {
   "cell_type": "code",
   "execution_count": 30,
   "metadata": {},
   "outputs": [
    {
     "data": {
      "text/plain": [
       "164"
      ]
     },
     "execution_count": 30,
     "metadata": {},
     "output_type": "execute_result"
    }
   ],
   "source": [
    "l = [[23,45],[54,34],[55,65]]\n",
    "\n",
    "\n",
    "\n",
    "sum(list(map(max, l)))"
   ]
  },
  {
   "cell_type": "code",
   "execution_count": 31,
   "metadata": {},
   "outputs": [
    {
     "data": {
      "text/plain": [
       "['science', 'machine']"
      ]
     },
     "execution_count": 31,
     "metadata": {},
     "output_type": "execute_result"
    }
   ],
   "source": [
    "l = ['data','science','machine','hi']\n",
    "\n",
    "def find_len(x):\n",
    "    if len(x) > 5:\n",
    "        return True\n",
    "    else :\n",
    "        return False\n",
    "\n",
    "list(filter(find_len, l))"
   ]
  },
  {
   "cell_type": "code",
   "execution_count": 33,
   "metadata": {},
   "outputs": [
    {
     "data": {
      "text/plain": [
       "['abhishek']"
      ]
     },
     "execution_count": 33,
     "metadata": {},
     "output_type": "execute_result"
    }
   ],
   "source": [
    "l = ['abhishek','mahesh','rahuk','om']\n",
    "\n",
    "def check(x):\n",
    "    if x[0].lower() == 'a':\n",
    "        return True\n",
    "    else :\n",
    "        return False\n",
    "    \n",
    "list(filter(check, l))"
   ]
  },
  {
   "cell_type": "code",
   "execution_count": 44,
   "metadata": {},
   "outputs": [
    {
     "data": {
      "text/plain": [
       "[4, 16, 9, 27, 64]"
      ]
     },
     "execution_count": 44,
     "metadata": {},
     "output_type": "execute_result"
    }
   ],
   "source": [
    "\n",
    "import numpy as np \n",
    "\n",
    "l = [2,4,16,9,27,64]\n",
    "def perfect(x):\n",
    "    n = np.sqrt(x)\n",
    "    return n * n == x\n",
    "list(filter(perfect, l))"
   ]
  },
  {
   "cell_type": "code",
   "execution_count": 42,
   "metadata": {},
   "outputs": [
    {
     "data": {
      "text/plain": [
       "int"
      ]
     },
     "execution_count": 42,
     "metadata": {},
     "output_type": "execute_result"
    }
   ],
   "source": [
    "n = 4\n",
    "type(n)"
   ]
  },
  {
   "cell_type": "code",
   "execution_count": 45,
   "metadata": {},
   "outputs": [
    {
     "name": "stdout",
     "output_type": "stream",
     "text": [
      "['green', 'white', 'black']\n"
     ]
    }
   ],
   "source": [
    "l = ['red','green','white','black','pink','yellow']\n",
    "\n",
    "r = ['red','pink','yellow']\n",
    "\n",
    "for i in r:\n",
    "    if i in l :\n",
    "        l.remove(i)\n",
    "print(l)"
   ]
  },
  {
   "cell_type": "code",
   "execution_count": 2,
   "metadata": {},
   "outputs": [
    {
     "name": "stdout",
     "output_type": "stream",
     "text": [
      "6\n"
     ]
    }
   ],
   "source": [
    "# Calculating the HCF of two numbers :\n",
    "\n",
    "def hcf(num1, num2):\n",
    "    div = max(num1, num2)\n",
    "    ds = min(num1, num2)\n",
    "    rem = div%ds\n",
    "    while rem != 0:\n",
    "        rem = div%ds\n",
    "        div = ds\n",
    "        ds = rem\n",
    "    return div\n",
    "\n",
    "print(hcf(12, 18))"
   ]
  },
  {
   "cell_type": "code",
   "execution_count": 3,
   "metadata": {},
   "outputs": [
    {
     "ename": "KeyboardInterrupt",
     "evalue": "",
     "output_type": "error",
     "traceback": [
      "\u001b[1;31m---------------------------------------------------------------------------\u001b[0m",
      "\u001b[1;31mKeyboardInterrupt\u001b[0m                         Traceback (most recent call last)",
      "Cell \u001b[1;32mIn[3], line 11\u001b[0m\n\u001b[0;32m      8\u001b[0m         rem, div \u001b[38;5;241m=\u001b[39m div\u001b[38;5;241m%\u001b[39mds, rem\n\u001b[0;32m      9\u001b[0m     \u001b[38;5;28;01mreturn\u001b[39;00m div\n\u001b[1;32m---> 11\u001b[0m \u001b[38;5;28mprint\u001b[39m(\u001b[43mHCF_R\u001b[49m\u001b[43m(\u001b[49m\u001b[38;5;241;43m12\u001b[39;49m\u001b[43m,\u001b[49m\u001b[38;5;241;43m18\u001b[39;49m\u001b[43m)\u001b[49m)\n",
      "Cell \u001b[1;32mIn[3], line 8\u001b[0m, in \u001b[0;36mHCF_R\u001b[1;34m(num1, num2)\u001b[0m\n\u001b[0;32m      6\u001b[0m rem \u001b[38;5;241m=\u001b[39m div\u001b[38;5;241m%\u001b[39mds\n\u001b[0;32m      7\u001b[0m \u001b[38;5;28;01mwhile\u001b[39;00m rem \u001b[38;5;241m!=\u001b[39m \u001b[38;5;241m0\u001b[39m:\n\u001b[1;32m----> 8\u001b[0m     rem, div \u001b[38;5;241m=\u001b[39m div\u001b[38;5;241m%\u001b[39mds, rem\n\u001b[0;32m      9\u001b[0m \u001b[38;5;28;01mreturn\u001b[39;00m div\n",
      "\u001b[1;31mKeyboardInterrupt\u001b[0m: "
     ]
    }
   ],
   "source": [
    "# Calculating HCF using swapping without using third variable:\n",
    "\n",
    "def HCF_R(num1, num2):\n",
    "    div = max(num1, num2)\n",
    "    ds = min(num1, num2)\n",
    "    rem = div%ds\n",
    "    while rem != 0:\n",
    "        rem, div = div%ds, rem\n",
    "    return div\n",
    "\n",
    "print(HCF_R(12,18))"
   ]
  },
  {
   "cell_type": "code",
   "execution_count": 4,
   "metadata": {},
   "outputs": [
    {
     "name": "stdout",
     "output_type": "stream",
     "text": [
      "<function <lambda> at 0x000002721BC7C310>\n"
     ]
    }
   ],
   "source": [
    "n = [45,27,45,6,7,23,56,24,32,86,44]\n",
    "\n",
    "x = lambda n: True if i%2 == 0 else False\n",
    "\n",
    "print(x)"
   ]
  },
  {
   "cell_type": "code",
   "execution_count": 7,
   "metadata": {},
   "outputs": [
    {
     "name": "stdout",
     "output_type": "stream",
     "text": [
      "[6, 56, 24, 32, 86, 44]\n"
     ]
    }
   ],
   "source": [
    "n = [45,27,45,6,7,23,56,24,32,86,44]\n",
    "\n",
    "print(list(filter(lambda n: True if n%2 == 0 else False, n)))"
   ]
  },
  {
   "cell_type": "code",
   "execution_count": 8,
   "metadata": {},
   "outputs": [
    {
     "data": {
      "text/plain": [
       "['aniket', 'om']"
      ]
     },
     "execution_count": 8,
     "metadata": {},
     "output_type": "execute_result"
    }
   ],
   "source": [
    "n = ['mahesh','aniket','yash','om']\n",
    "\n",
    "list(filter(lambda n : True if n[0].lower() in 'aeiou' else False, n))\n"
   ]
  },
  {
   "cell_type": "code",
   "execution_count": 14,
   "metadata": {},
   "outputs": [
    {
     "data": {
      "text/plain": [
       "[45.0, 81.0, 121.5, 162.0]"
      ]
     },
     "execution_count": 14,
     "metadata": {},
     "output_type": "execute_result"
    }
   ],
   "source": [
    "price = [50, 90, 135, 180]\n",
    "\n",
    "list(map(lambda n: 0.9*n, price))"
   ]
  },
  {
   "cell_type": "code",
   "execution_count": 12,
   "metadata": {},
   "outputs": [
    {
     "data": {
      "text/plain": [
       "[45.0, 90.0, 135.0, 180.0]"
      ]
     },
     "execution_count": 12,
     "metadata": {},
     "output_type": "execute_result"
    }
   ],
   "source": [
    "ex = [50, 100, 150, 200]\n",
    "list(map(lambda x:0.9*x, ex))"
   ]
  },
  {
   "cell_type": "code",
   "execution_count": 22,
   "metadata": {},
   "outputs": [
    {
     "data": {
      "text/plain": [
       "[2, 9, 15]"
      ]
     },
     "execution_count": 22,
     "metadata": {},
     "output_type": "execute_result"
    }
   ],
   "source": [
    "num = [1,2,3,4,5,6,7,8,9, 15]\n",
    "\n",
    "def prime(n):\n",
    "    if n == 2:\n",
    "        return True\n",
    "    for i in range(2, int((n**1/2)-1)):\n",
    "        if n % i == 0:\n",
    "            return False\n",
    "        else :\n",
    "            return True\n",
    "        \n",
    "\n",
    "list(filter(prime, num))\n"
   ]
  },
  {
   "cell_type": "code",
   "execution_count": 23,
   "metadata": {},
   "outputs": [
    {
     "data": {
      "text/plain": [
       "[2, 7, 9, 15]"
      ]
     },
     "execution_count": 23,
     "metadata": {},
     "output_type": "execute_result"
    }
   ],
   "source": [
    "l = [1,2,3,4,5,6,7,8,9,15]\n",
    "\n",
    "def prime_check(n):\n",
    "    if n == 2:\n",
    "        return True\n",
    "    for i in range(2, int(n/2)):\n",
    "        if n % i == 0:\n",
    "            return False\n",
    "        return True       \n",
    "        \n",
    "list(filter(prime_check, l))"
   ]
  },
  {
   "cell_type": "code",
   "execution_count": 24,
   "metadata": {},
   "outputs": [
    {
     "data": {
      "text/plain": [
       "[1,\n",
       " 8,\n",
       " 27,\n",
       " 64,\n",
       " 125,\n",
       " 216,\n",
       " 343,\n",
       " 512,\n",
       " 729,\n",
       " 1000,\n",
       " 1331,\n",
       " 1728,\n",
       " 2197,\n",
       " 2744,\n",
       " 3375,\n",
       " 4096,\n",
       " 4913,\n",
       " 5832,\n",
       " 6859]"
      ]
     },
     "execution_count": 24,
     "metadata": {},
     "output_type": "execute_result"
    }
   ],
   "source": [
    "[i**3 for i in range(1, 20)]"
   ]
  },
  {
   "cell_type": "code",
   "execution_count": 25,
   "metadata": {},
   "outputs": [
    {
     "name": "stdout",
     "output_type": "stream",
     "text": [
      "[32.0, 50.0, 68.0, 86.0, 104.0]\n"
     ]
    }
   ],
   "source": [
    "cel = [0, 10, 20, 30, 40]\n",
    "\n",
    "l= [(i*9/5)+32 for i in cel]\n",
    "print(l)"
   ]
  },
  {
   "cell_type": "code",
   "execution_count": 27,
   "metadata": {},
   "outputs": [
    {
     "data": {
      "text/plain": [
       "[12, 34, 35, 65, 33, 42]"
      ]
     },
     "execution_count": 27,
     "metadata": {},
     "output_type": "execute_result"
    }
   ],
   "source": [
    "g = [12, 34, 35, 65, 33, 42, 1]\n",
    "\n",
    "[i for i in g if i > 10]"
   ]
  },
  {
   "cell_type": "code",
   "execution_count": 31,
   "metadata": {},
   "outputs": [
    {
     "data": {
      "text/plain": [
       "['image.png', 'movies.mp4', 'songs.mp3']"
      ]
     },
     "execution_count": 31,
     "metadata": {},
     "output_type": "execute_result"
    }
   ],
   "source": [
    "files = ['document.txt', 'image.png','movies.mp4', 'songs.mp3']\n",
    "\n",
    "[i for i in files if i.split(\".\")[1] != 'txt']"
   ]
  },
  {
   "cell_type": "code",
   "execution_count": 33,
   "metadata": {},
   "outputs": [
    {
     "data": {
      "text/plain": [
       "['consonent', 'consonent', 'consonent', 'consonent', 'aeiou', 'consonent']"
      ]
     },
     "execution_count": 33,
     "metadata": {},
     "output_type": "execute_result"
    }
   ],
   "source": [
    "word = ['A','b','c','D','E','f']\n",
    "\n",
    "['aeiou' if i.lower() in 'vowel' else 'consonent' for i in word]"
   ]
  },
  {
   "cell_type": "code",
   "execution_count": 36,
   "metadata": {},
   "outputs": [
    {
     "data": {
      "text/plain": [
       "{'E', 'e', 'i'}"
      ]
     },
     "execution_count": 36,
     "metadata": {},
     "output_type": "execute_result"
    }
   ],
   "source": [
    "x = 'Engineer'\n",
    "\n",
    "{i for i in x if i.lower() in 'aeiou'}"
   ]
  },
  {
   "cell_type": "code",
   "execution_count": 37,
   "metadata": {},
   "outputs": [
    {
     "data": {
      "text/plain": [
       "{'data': 4, 'science': 7, 'python': 6, 'amabetter': 9}"
      ]
     },
     "execution_count": 37,
     "metadata": {},
     "output_type": "execute_result"
    }
   ],
   "source": [
    "a = ['data','science','python','amabetter']\n",
    "\n",
    "{i:len(i) for i in a}"
   ]
  },
  {
   "cell_type": "code",
   "execution_count": 38,
   "metadata": {},
   "outputs": [
    {
     "data": {
      "text/plain": [
       "{23: 'odd', 42: 'even', 36: 'even', 78: 'even', 54: 'even', 67: 'odd'}"
      ]
     },
     "execution_count": 38,
     "metadata": {},
     "output_type": "execute_result"
    }
   ],
   "source": [
    "a = [23, 42, 36, 78, 23, 23, 54, 67]\n",
    "\n",
    "{i:'even' if i%2 == 0 else 'odd' for i in a}"
   ]
  },
  {
   "cell_type": "markdown",
   "metadata": {},
   "source": [
    "Finding the Unicode of Data using \"ord(i)\" :"
   ]
  },
  {
   "cell_type": "code",
   "execution_count": 39,
   "metadata": {},
   "outputs": [
    {
     "data": {
      "text/plain": [
       "{'A': 65, '@': 64, '😂': 128514}"
      ]
     },
     "execution_count": 39,
     "metadata": {},
     "output_type": "execute_result"
    }
   ],
   "source": [
    "l = ['A','@','😂']\n",
    "\n",
    "{i:ord(i) for i in l}"
   ]
  },
  {
   "cell_type": "code",
   "execution_count": null,
   "metadata": {},
   "outputs": [],
   "source": []
  }
 ],
 "metadata": {
  "kernelspec": {
   "display_name": "Python 3",
   "language": "python",
   "name": "python3"
  },
  "language_info": {
   "codemirror_mode": {
    "name": "ipython",
    "version": 3
   },
   "file_extension": ".py",
   "mimetype": "text/x-python",
   "name": "python",
   "nbconvert_exporter": "python",
   "pygments_lexer": "ipython3",
   "version": "3.9.0"
  }
 },
 "nbformat": 4,
 "nbformat_minor": 2
}
